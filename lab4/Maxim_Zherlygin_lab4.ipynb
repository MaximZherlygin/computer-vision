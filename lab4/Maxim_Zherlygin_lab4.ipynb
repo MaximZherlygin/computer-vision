{
 "cells": [
  {
   "cell_type": "code",
   "execution_count": 31,
   "metadata": {},
   "outputs": [],
   "source": [
    "# 1. Выбрать задачу (классификация или регрессия), датасет (пересечений не должно быть - у каждого студента свой датасет)\n",
    "# и метрику качества\n",
    "\n",
    "# Регрессия, метрика R2\n",
    "import matplotlib.pyplot as plt\n",
    "import seaborn as sns\n",
    "import pandas as pd\n",
    "import numpy as np\n",
    "import warnings\n",
    "warnings.simplefilter(\"ignore\")\n",
    "sns.set(style=\"darkgrid\")\n",
    "%matplotlib inline"
   ]
  },
  {
   "cell_type": "code",
   "execution_count": 32,
   "outputs": [
    {
     "data": {
      "text/plain": "   Age Attrition     BusinessTravel              Department  DistanceFromHome  \\\n0   51        No      Travel_Rarely                   Sales                 6   \n1   31       Yes  Travel_Frequently  Research & Development                10   \n2   32        No  Travel_Frequently  Research & Development                17   \n3   38        No         Non-Travel  Research & Development                 2   \n4   32        No      Travel_Rarely  Research & Development                10   \n\n   Education EducationField  EmployeeCount  EmployeeID  Gender  ...  \\\n0          2  Life Sciences              1           1  Female  ...   \n1          1  Life Sciences              1           2  Female  ...   \n2          4          Other              1           3    Male  ...   \n3          5  Life Sciences              1           4    Male  ...   \n4          1        Medical              1           5    Male  ...   \n\n   NumCompaniesWorked Over18 PercentSalaryHike  StandardHours  \\\n0                 1.0      Y                11              8   \n1                 0.0      Y                23              8   \n2                 1.0      Y                15              8   \n3                 3.0      Y                11              8   \n4                 4.0      Y                12              8   \n\n   StockOptionLevel TotalWorkingYears  TrainingTimesLastYear  YearsAtCompany  \\\n0                 0               1.0                      6               1   \n1                 1               6.0                      3               5   \n2                 3               5.0                      2               5   \n3                 3              13.0                      5               8   \n4                 2               9.0                      2               6   \n\n   YearsSinceLastPromotion  YearsWithCurrManager  \n0                        0                     0  \n1                        1                     4  \n2                        0                     3  \n3                        7                     5  \n4                        0                     4  \n\n[5 rows x 24 columns]",
      "text/html": "<div>\n<style scoped>\n    .dataframe tbody tr th:only-of-type {\n        vertical-align: middle;\n    }\n\n    .dataframe tbody tr th {\n        vertical-align: top;\n    }\n\n    .dataframe thead th {\n        text-align: right;\n    }\n</style>\n<table border=\"1\" class=\"dataframe\">\n  <thead>\n    <tr style=\"text-align: right;\">\n      <th></th>\n      <th>Age</th>\n      <th>Attrition</th>\n      <th>BusinessTravel</th>\n      <th>Department</th>\n      <th>DistanceFromHome</th>\n      <th>Education</th>\n      <th>EducationField</th>\n      <th>EmployeeCount</th>\n      <th>EmployeeID</th>\n      <th>Gender</th>\n      <th>...</th>\n      <th>NumCompaniesWorked</th>\n      <th>Over18</th>\n      <th>PercentSalaryHike</th>\n      <th>StandardHours</th>\n      <th>StockOptionLevel</th>\n      <th>TotalWorkingYears</th>\n      <th>TrainingTimesLastYear</th>\n      <th>YearsAtCompany</th>\n      <th>YearsSinceLastPromotion</th>\n      <th>YearsWithCurrManager</th>\n    </tr>\n  </thead>\n  <tbody>\n    <tr>\n      <th>0</th>\n      <td>51</td>\n      <td>No</td>\n      <td>Travel_Rarely</td>\n      <td>Sales</td>\n      <td>6</td>\n      <td>2</td>\n      <td>Life Sciences</td>\n      <td>1</td>\n      <td>1</td>\n      <td>Female</td>\n      <td>...</td>\n      <td>1.0</td>\n      <td>Y</td>\n      <td>11</td>\n      <td>8</td>\n      <td>0</td>\n      <td>1.0</td>\n      <td>6</td>\n      <td>1</td>\n      <td>0</td>\n      <td>0</td>\n    </tr>\n    <tr>\n      <th>1</th>\n      <td>31</td>\n      <td>Yes</td>\n      <td>Travel_Frequently</td>\n      <td>Research &amp; Development</td>\n      <td>10</td>\n      <td>1</td>\n      <td>Life Sciences</td>\n      <td>1</td>\n      <td>2</td>\n      <td>Female</td>\n      <td>...</td>\n      <td>0.0</td>\n      <td>Y</td>\n      <td>23</td>\n      <td>8</td>\n      <td>1</td>\n      <td>6.0</td>\n      <td>3</td>\n      <td>5</td>\n      <td>1</td>\n      <td>4</td>\n    </tr>\n    <tr>\n      <th>2</th>\n      <td>32</td>\n      <td>No</td>\n      <td>Travel_Frequently</td>\n      <td>Research &amp; Development</td>\n      <td>17</td>\n      <td>4</td>\n      <td>Other</td>\n      <td>1</td>\n      <td>3</td>\n      <td>Male</td>\n      <td>...</td>\n      <td>1.0</td>\n      <td>Y</td>\n      <td>15</td>\n      <td>8</td>\n      <td>3</td>\n      <td>5.0</td>\n      <td>2</td>\n      <td>5</td>\n      <td>0</td>\n      <td>3</td>\n    </tr>\n    <tr>\n      <th>3</th>\n      <td>38</td>\n      <td>No</td>\n      <td>Non-Travel</td>\n      <td>Research &amp; Development</td>\n      <td>2</td>\n      <td>5</td>\n      <td>Life Sciences</td>\n      <td>1</td>\n      <td>4</td>\n      <td>Male</td>\n      <td>...</td>\n      <td>3.0</td>\n      <td>Y</td>\n      <td>11</td>\n      <td>8</td>\n      <td>3</td>\n      <td>13.0</td>\n      <td>5</td>\n      <td>8</td>\n      <td>7</td>\n      <td>5</td>\n    </tr>\n    <tr>\n      <th>4</th>\n      <td>32</td>\n      <td>No</td>\n      <td>Travel_Rarely</td>\n      <td>Research &amp; Development</td>\n      <td>10</td>\n      <td>1</td>\n      <td>Medical</td>\n      <td>1</td>\n      <td>5</td>\n      <td>Male</td>\n      <td>...</td>\n      <td>4.0</td>\n      <td>Y</td>\n      <td>12</td>\n      <td>8</td>\n      <td>2</td>\n      <td>9.0</td>\n      <td>2</td>\n      <td>6</td>\n      <td>0</td>\n      <td>4</td>\n    </tr>\n  </tbody>\n</table>\n<p>5 rows × 24 columns</p>\n</div>"
     },
     "execution_count": 32,
     "metadata": {},
     "output_type": "execute_result"
    }
   ],
   "source": [
    "url = \"https://raw.githubusercontent.com/MaximZherlygin/CV/main/general_data.csv\"\n",
    "data = pd.read_csv(url)\n",
    "data.head()"
   ],
   "metadata": {
    "collapsed": false,
    "pycharm": {
     "name": "#%%\n"
    }
   }
  },
  {
   "cell_type": "code",
   "execution_count": 33,
   "metadata": {},
   "outputs": [
    {
     "data": {
      "text/plain": "(4410, 24)"
     },
     "execution_count": 33,
     "metadata": {},
     "output_type": "execute_result"
    }
   ],
   "source": [
    "data.shape"
   ]
  },
  {
   "cell_type": "code",
   "execution_count": 34,
   "metadata": {},
   "outputs": [
    {
     "data": {
      "text/plain": "Age                        0.000000\nAttrition                  0.000000\nBusinessTravel             0.000000\nDepartment                 0.000000\nDistanceFromHome           0.000000\nEducation                  0.000000\nEducationField             0.000000\nEmployeeCount              0.000000\nEmployeeID                 0.000000\nGender                     0.000000\nJobLevel                   0.000000\nJobRole                    0.000000\nMaritalStatus              0.000000\nMonthlyIncome              0.000000\nNumCompaniesWorked         0.004308\nOver18                     0.000000\nPercentSalaryHike          0.000000\nStandardHours              0.000000\nStockOptionLevel           0.000000\nTotalWorkingYears          0.002041\nTrainingTimesLastYear      0.000000\nYearsAtCompany             0.000000\nYearsSinceLastPromotion    0.000000\nYearsWithCurrManager       0.000000\ndtype: float64"
     },
     "execution_count": 34,
     "metadata": {},
     "output_type": "execute_result"
    }
   ],
   "source": [
    "# 2. Сделать препроцессинг, фичеинжинириг и т.д. \\\\ разрешается использование любых пакетов\n",
    "data.isna().mean()"
   ]
  },
  {
   "cell_type": "code",
   "execution_count": 35,
   "metadata": {},
   "outputs": [
    {
     "data": {
      "text/plain": "   Age  DistanceFromHome  Education  EmployeeCount  EmployeeID  JobLevel  \\\n0   51                 6          2              1           1         1   \n1   31                10          1              1           2         1   \n2   32                17          4              1           3         4   \n3   38                 2          5              1           4         3   \n4   32                10          1              1           5         1   \n\n   MonthlyIncome  NumCompaniesWorked  PercentSalaryHike  StandardHours  ...  \\\n0         131160                 1.0                 11              8  ...   \n1          41890                 0.0                 23              8  ...   \n2         193280                 1.0                 15              8  ...   \n3          83210                 3.0                 11              8  ...   \n4          23420                 4.0                 12              8  ...   \n\n   JobRole_Manager  JobRole_Manufacturing Director  JobRole_Research Director  \\\n0                0                               0                          0   \n1                0                               0                          0   \n2                0                               0                          0   \n3                0                               0                          0   \n4                0                               0                          0   \n\n   JobRole_Research Scientist  JobRole_Sales Executive  \\\n0                           0                        0   \n1                           1                        0   \n2                           0                        1   \n3                           0                        0   \n4                           0                        1   \n\n   JobRole_Sales Representative  MaritalStatus_Divorced  \\\n0                             0                       0   \n1                             0                       0   \n2                             0                       0   \n3                             0                       0   \n4                             0                       0   \n\n   MaritalStatus_Married  MaritalStatus_Single  Over18_Y  \n0                      1                     0         1  \n1                      0                     1         1  \n2                      1                     0         1  \n3                      1                     0         1  \n4                      0                     1         1  \n\n[5 rows x 45 columns]",
      "text/html": "<div>\n<style scoped>\n    .dataframe tbody tr th:only-of-type {\n        vertical-align: middle;\n    }\n\n    .dataframe tbody tr th {\n        vertical-align: top;\n    }\n\n    .dataframe thead th {\n        text-align: right;\n    }\n</style>\n<table border=\"1\" class=\"dataframe\">\n  <thead>\n    <tr style=\"text-align: right;\">\n      <th></th>\n      <th>Age</th>\n      <th>DistanceFromHome</th>\n      <th>Education</th>\n      <th>EmployeeCount</th>\n      <th>EmployeeID</th>\n      <th>JobLevel</th>\n      <th>MonthlyIncome</th>\n      <th>NumCompaniesWorked</th>\n      <th>PercentSalaryHike</th>\n      <th>StandardHours</th>\n      <th>...</th>\n      <th>JobRole_Manager</th>\n      <th>JobRole_Manufacturing Director</th>\n      <th>JobRole_Research Director</th>\n      <th>JobRole_Research Scientist</th>\n      <th>JobRole_Sales Executive</th>\n      <th>JobRole_Sales Representative</th>\n      <th>MaritalStatus_Divorced</th>\n      <th>MaritalStatus_Married</th>\n      <th>MaritalStatus_Single</th>\n      <th>Over18_Y</th>\n    </tr>\n  </thead>\n  <tbody>\n    <tr>\n      <th>0</th>\n      <td>51</td>\n      <td>6</td>\n      <td>2</td>\n      <td>1</td>\n      <td>1</td>\n      <td>1</td>\n      <td>131160</td>\n      <td>1.0</td>\n      <td>11</td>\n      <td>8</td>\n      <td>...</td>\n      <td>0</td>\n      <td>0</td>\n      <td>0</td>\n      <td>0</td>\n      <td>0</td>\n      <td>0</td>\n      <td>0</td>\n      <td>1</td>\n      <td>0</td>\n      <td>1</td>\n    </tr>\n    <tr>\n      <th>1</th>\n      <td>31</td>\n      <td>10</td>\n      <td>1</td>\n      <td>1</td>\n      <td>2</td>\n      <td>1</td>\n      <td>41890</td>\n      <td>0.0</td>\n      <td>23</td>\n      <td>8</td>\n      <td>...</td>\n      <td>0</td>\n      <td>0</td>\n      <td>0</td>\n      <td>1</td>\n      <td>0</td>\n      <td>0</td>\n      <td>0</td>\n      <td>0</td>\n      <td>1</td>\n      <td>1</td>\n    </tr>\n    <tr>\n      <th>2</th>\n      <td>32</td>\n      <td>17</td>\n      <td>4</td>\n      <td>1</td>\n      <td>3</td>\n      <td>4</td>\n      <td>193280</td>\n      <td>1.0</td>\n      <td>15</td>\n      <td>8</td>\n      <td>...</td>\n      <td>0</td>\n      <td>0</td>\n      <td>0</td>\n      <td>0</td>\n      <td>1</td>\n      <td>0</td>\n      <td>0</td>\n      <td>1</td>\n      <td>0</td>\n      <td>1</td>\n    </tr>\n    <tr>\n      <th>3</th>\n      <td>38</td>\n      <td>2</td>\n      <td>5</td>\n      <td>1</td>\n      <td>4</td>\n      <td>3</td>\n      <td>83210</td>\n      <td>3.0</td>\n      <td>11</td>\n      <td>8</td>\n      <td>...</td>\n      <td>0</td>\n      <td>0</td>\n      <td>0</td>\n      <td>0</td>\n      <td>0</td>\n      <td>0</td>\n      <td>0</td>\n      <td>1</td>\n      <td>0</td>\n      <td>1</td>\n    </tr>\n    <tr>\n      <th>4</th>\n      <td>32</td>\n      <td>10</td>\n      <td>1</td>\n      <td>1</td>\n      <td>5</td>\n      <td>1</td>\n      <td>23420</td>\n      <td>4.0</td>\n      <td>12</td>\n      <td>8</td>\n      <td>...</td>\n      <td>0</td>\n      <td>0</td>\n      <td>0</td>\n      <td>0</td>\n      <td>1</td>\n      <td>0</td>\n      <td>0</td>\n      <td>0</td>\n      <td>1</td>\n      <td>1</td>\n    </tr>\n  </tbody>\n</table>\n<p>5 rows × 45 columns</p>\n</div>"
     },
     "execution_count": 35,
     "metadata": {},
     "output_type": "execute_result"
    }
   ],
   "source": [
    "categorical = list(data.dtypes[data.dtypes == \"object\"].index)\n",
    "\n",
    "a = data[categorical]\n",
    "a = pd.get_dummies(a)\n",
    "data = data.drop(columns=categorical)\n",
    "data = data.join(a)\n",
    "\n",
    "data.head()"
   ]
  },
  {
   "cell_type": "code",
   "execution_count": 36,
   "metadata": {},
   "outputs": [
    {
     "data": {
      "text/plain": "Age                                    int64\nDistanceFromHome                       int64\nEducation                              int64\nEmployeeCount                          int64\nEmployeeID                             int64\nJobLevel                               int64\nMonthlyIncome                          int64\nNumCompaniesWorked                   float64\nPercentSalaryHike                      int64\nStandardHours                          int64\nStockOptionLevel                       int64\nTotalWorkingYears                    float64\nTrainingTimesLastYear                  int64\nYearsAtCompany                         int64\nYearsSinceLastPromotion                int64\nYearsWithCurrManager                   int64\nAttrition_No                           uint8\nAttrition_Yes                          uint8\nBusinessTravel_Non-Travel              uint8\nBusinessTravel_Travel_Frequently       uint8\nBusinessTravel_Travel_Rarely           uint8\nDepartment_Human Resources             uint8\nDepartment_Research & Development      uint8\nDepartment_Sales                       uint8\nEducationField_Human Resources         uint8\nEducationField_Life Sciences           uint8\nEducationField_Marketing               uint8\nEducationField_Medical                 uint8\nEducationField_Other                   uint8\nEducationField_Technical Degree        uint8\nGender_Female                          uint8\nGender_Male                            uint8\nJobRole_Healthcare Representative      uint8\nJobRole_Human Resources                uint8\nJobRole_Laboratory Technician          uint8\nJobRole_Manager                        uint8\nJobRole_Manufacturing Director         uint8\nJobRole_Research Director              uint8\nJobRole_Research Scientist             uint8\nJobRole_Sales Executive                uint8\nJobRole_Sales Representative           uint8\nMaritalStatus_Divorced                 uint8\nMaritalStatus_Married                  uint8\nMaritalStatus_Single                   uint8\nOver18_Y                               uint8\ndtype: object"
     },
     "execution_count": 36,
     "metadata": {},
     "output_type": "execute_result"
    }
   ],
   "source": [
    "data.dtypes"
   ]
  },
  {
   "cell_type": "code",
   "execution_count": 37,
   "metadata": {},
   "outputs": [],
   "source": [
    "from sklearn.model_selection import train_test_split"
   ]
  },
  {
   "cell_type": "code",
   "execution_count": 38,
   "outputs": [
    {
     "data": {
      "text/plain": "<AxesSubplot:xlabel='MonthlyIncome', ylabel='Density'>"
     },
     "execution_count": 38,
     "metadata": {},
     "output_type": "execute_result"
    },
    {
     "data": {
      "text/plain": "<Figure size 432x288 with 1 Axes>",
      "image/png": "[encoded data removed]"
     },
     "metadata": {
      "needs_background": "light"
     },
     "output_type": "display_data"
    }
   ],
   "source": [
    "y = data[\"MonthlyIncome\"]\n",
    "X = data.drop(columns=[\"MonthlyIncome\"])\n",
    "X_train, X_test, Y_train, Y_test = train_test_split(X, y, test_size=0.3, random_state=10)\n",
    "\n",
    "sns.distplot(Y_train)"
   ],
   "metadata": {
    "collapsed": false,
    "pycharm": {
     "name": "#%%\n"
    }
   }
  },
  {
   "cell_type": "code",
   "execution_count": 39,
   "outputs": [],
   "source": [
    "num_features = data.select_dtypes(include=np.number).columns.tolist()\n",
    "X1 = data[num_features]\n",
    "num_features = X1.columns\n",
    "X1 = X1.fillna(method='bfill')\n",
    "X1.isna().mean()\n",
    "\n",
    "X1_train, X1_test, y1_train, y1_test = train_test_split(X1, y, test_size=0.3, random_state=10)"
   ],
   "metadata": {
    "collapsed": false,
    "pycharm": {
     "name": "#%%\n"
    }
   }
  },
  {
   "cell_type": "code",
   "execution_count": 40,
   "metadata": {},
   "outputs": [],
   "source": [
    "def change(a):\n",
    "    if np.isnan(a):\n",
    "            return 0\n",
    "    else:\n",
    "        return a\n",
    "\n",
    "for i in list(X1_train.columns):\n",
    "    X1_train[i] = X1_train[i].agg(change)\n",
    "    X1_test[i] = X1_test[i].agg(change)\n",
    "    y1_train = y1_train.agg(change)\n",
    "    y1_test = y1_test.agg(change)"
   ]
  },
  {
   "cell_type": "code",
   "execution_count": 41,
   "metadata": {},
   "outputs": [],
   "source": [
    "from sklearn.preprocessing import StandardScaler\n",
    "\n",
    "pca = StandardScaler()\n",
    "\n",
    "pca.fit(X1_train)\n",
    "X_train_sc = pca.transform(X1_train)\n",
    "X_test_sc = pca.transform(X1_test)"
   ]
  },
  {
   "cell_type": "code",
   "execution_count": 42,
   "metadata": {},
   "outputs": [],
   "source": [
    "# 2*. Посчитать различные статистики, визуализировать данные и сделать первичные выводы \\\\ разрешается использование любых пакетов"
   ]
  },
  {
   "cell_type": "code",
   "execution_count": 43,
   "metadata": {},
   "outputs": [],
   "source": [
    "# 3. Реализовать метрику качества \\\\ аргументировать выбор метрики качества\n",
    "# Для наших задач достаточно коэффициента детерминации (r2)\n",
    "def r2(real, predicted):\n",
    "    SS_res = np.sum((predicted - real) ** 2)\n",
    "    SS_tot = np.sum((real - np.mean(real)) ** 2)\n",
    "    return 1 - SS_res / SS_tot"
   ]
  },
  {
   "cell_type": "code",
   "execution_count": 44,
   "metadata": {},
   "outputs": [],
   "source": [
    "# 4. Реализовать и обучить логистическую регрессию или линейную регрессию \\\\ !!!не разрешается использовать sklearn!!!\n",
    "def predict_y(x, weight, bias):\n",
    "    return weight*x + bias\n",
    "\n",
    "def cost_function(x, y, weight, bias):\n",
    "    companies = len(x)\n",
    "    total_error = 0.0\n",
    "    for i in range(companies):\n",
    "        total_error += (y[i] - (weight*x[i] + bias))**2\n",
    "    return total_error / companies"
   ]
  },
  {
   "cell_type": "code",
   "execution_count": 45,
   "metadata": {},
   "outputs": [],
   "source": [
    "def update_weights(x, y, weight, bias, learning_rate):\n",
    "    weight_deriv = 0\n",
    "    bias_deriv = 0\n",
    "    companies = len(x)\n",
    "\n",
    "    for i in range(companies):\n",
    "        weight_deriv += -2*x[i] * (y[i] - (weight*x[i] + bias))\n",
    "        bias_deriv += -2*(y[i] - (weight*x[i] + bias))\n",
    "\n",
    "    weight -= (weight_deriv / companies) * learning_rate\n",
    "    bias -= (bias_deriv / companies) * learning_rate\n",
    "\n",
    "    return weight, bias"
   ]
  },
  {
   "cell_type": "code",
   "execution_count": 46,
   "metadata": {},
   "outputs": [],
   "source": [
    "def train(x, y, weight, bias, learning_rate, iters):\n",
    "    cost_history = []\n",
    "\n",
    "    for i in range(iters):\n",
    "        weight, bias = update_weights(x, y, weight, bias, learning_rate)\n",
    "\n",
    "        cost = cost_function(x, y, weight, bias)\n",
    "        cost_history.append(cost)\n",
    "\n",
    "        if i % 10 == 0:\n",
    "            print(f\"iter={i}\\nweight={weight}\\nbias={bias}\\ncost={cost}\")\n",
    "            \n",
    "\n",
    "    return weight, bias, cost_history"
   ]
  },
  {
   "cell_type": "code",
   "execution_count": 47,
   "metadata": {
    "scrolled": true
   },
   "outputs": [
    {
     "name": "stdout",
     "output_type": "stream",
     "text": [
      "iter=0\n",
      "weight=[-46.3939545  -17.72558068   3.30615686   0.           9.16154073\n",
      "  57.86817281 950.26021988 -12.17728461  -6.48794284   0.\n",
      "   1.1047718  -38.72308224  60.08493801  -3.33021505  48.68004493\n",
      "  17.31737505  23.74512498 -23.74512498  53.17753372 -29.99013811\n",
      "  -9.59114544 -31.87393925  60.64570097 -48.6809204  -15.08581673\n",
      " -15.83259782 -44.29287558  35.46707343  15.3134376   13.35268011\n",
      "  -3.15635312   3.15635312 -31.05473749 -45.92095593  10.61341946\n",
      " -14.61723991  33.4863664   15.85076113  -7.49245265  17.69323099\n",
      "  -4.58647202  13.97128352  37.87236362 -52.98102212   0.        ]\n",
      "bias=[1308.49083252 1308.49083252 1308.49083252 1308.49083252 1308.49083252\n",
      " 1308.49083252 1308.49083252 1308.49083252 1308.49083252 1308.49083252\n",
      " 1308.49083252 1308.49083252 1308.49083252 1308.49083252 1308.49083252\n",
      " 1308.49083252 1308.49083252 1308.49083252 1308.49083252 1308.49083252\n",
      " 1308.49083252 1308.49083252 1308.49083252 1308.49083252 1308.49083252\n",
      " 1308.49083252 1308.49083252 1308.49083252 1308.49083252 1308.49083252\n",
      " 1308.49083252 1308.49083252 1308.49083252 1308.49083252 1308.49083252\n",
      " 1308.49083252 1308.49083252 1308.49083252 1308.49083252 1308.49083252\n",
      " 1308.49083252 1308.49083252 1308.49083252 1308.49083252 1308.49083252]\n",
      "cost=[6.36814110e+09 6.36832308e+09 6.36835310e+09 6.36835418e+09\n",
      " 6.36834587e+09 6.36802266e+09 6.27895773e+09 6.36833950e+09\n",
      " 6.36835002e+09 6.36835418e+09 6.36835406e+09 6.36820573e+09\n",
      " 6.36799677e+09 6.36835309e+09 6.36811958e+09 6.36832449e+09\n",
      " 6.36829836e+09 6.36829836e+09 6.36807423e+09 6.36826514e+09\n",
      " 6.36834508e+09 6.36825360e+09 6.36799007e+09 6.36811957e+09\n",
      " 6.36833165e+09 6.36832937e+09 6.36815996e+09 6.36822965e+09\n",
      " 6.36833097e+09 6.36833653e+09 6.36835320e+09 6.36835320e+09\n",
      " 6.36825871e+09 6.36814542e+09 6.36834303e+09 6.36833303e+09\n",
      " 6.36824317e+09 6.36832931e+09 6.36834863e+09 6.36832319e+09\n",
      " 6.36835210e+09 6.36833486e+09 6.36821219e+09 6.36807629e+09\n",
      " 6.36835418e+09]\n",
      "iter=10\n",
      "weight=[-462.24303237 -176.60762592   32.94067062    0.           91.28039231\n",
      "  576.56563154 9467.85352257 -121.32755279  -64.64218032    0.\n",
      "   11.00731923 -385.81481461  598.6522219   -33.18037271  485.02033988\n",
      "  172.54049677  236.58294908 -236.58294908  529.83076578 -298.80471558\n",
      "  -95.56072984 -317.57384107  604.23934576 -485.02906261 -150.30651616\n",
      " -157.74701907 -441.30907439  353.37379079  152.57440129  133.03852647\n",
      "  -31.44811117   31.44811117 -309.4117796  -457.53034303  105.74608794\n",
      " -145.63788268  333.63915005  157.92798798  -74.65054598  176.28531199\n",
      "  -45.6970042   139.20193977  377.33873711 -527.87283567    0.        ]\n",
      "bias=[13037.06003766 13037.06003766 13037.06003766 13037.06003766\n",
      " 13037.06003766 13037.06003766 13037.06003766 13037.06003766\n",
      " 13037.06003766 13037.06003766 13037.06003766 13037.06003766\n",
      " 13037.06003766 13037.06003766 13037.06003766 13037.06003766\n",
      " 13037.06003766 13037.06003766 13037.06003766 13037.06003766\n",
      " 13037.06003766 13037.06003766 13037.06003766 13037.06003766\n",
      " 13037.06003766 13037.06003766 13037.06003766 13037.06003766\n",
      " 13037.06003766 13037.06003766 13037.06003766 13037.06003766\n",
      " 13037.06003766 13037.06003766 13037.06003766 13037.06003766\n",
      " 13037.06003766 13037.06003766 13037.06003766 13037.06003766\n",
      " 13037.06003766 13037.06003766 13037.06003766 13037.06003766\n",
      " 13037.06003766]\n",
      "cost=[5.00000358e+09 5.00165258e+09 5.00192464e+09 5.00193444e+09\n",
      " 5.00185915e+09 4.99893039e+09 4.19188223e+09 5.00180142e+09\n",
      " 5.00189668e+09 5.00193444e+09 5.00193335e+09 5.00058930e+09\n",
      " 4.99869583e+09 5.00192449e+09 4.99980860e+09 5.00166542e+09\n",
      " 5.00142864e+09 5.00142864e+09 4.99939765e+09 5.00112761e+09\n",
      " 5.00185192e+09 5.00102306e+09 4.99863509e+09 4.99980853e+09\n",
      " 5.00173028e+09 5.00170957e+09 5.00017451e+09 5.00080600e+09\n",
      " 5.00172408e+09 5.00177450e+09 5.00192550e+09 5.00192550e+09\n",
      " 5.00106931e+09 5.00004275e+09 5.00183339e+09 5.00174277e+09\n",
      " 5.00092852e+09 5.00170905e+09 5.00188408e+09 5.00165361e+09\n",
      " 5.00191557e+09 5.00175934e+09 5.00064775e+09 4.99941637e+09\n",
      " 5.00193444e+09]\n",
      "iter=20\n",
      "weight=[ -802.02200567  -306.42582459    57.15422595     0.\n",
      "   158.37747287  1000.37922006 16427.34739033  -210.51126879\n",
      "  -112.15842637     0.            19.09842145  -669.41403064\n",
      "  1038.70090425   -57.57012481   841.54212944   299.36908852\n",
      "   410.48694743  -410.48694743   919.29116002  -518.44579693\n",
      "  -165.80413947  -551.01146178  1048.39493092  -841.55726394\n",
      "  -260.79167259  -273.70143358  -765.70021432   613.12672468\n",
      "   264.72660217   230.8305769    -54.56453732    54.56453732\n",
      "  -536.84974931  -793.84518029   183.47640441  -252.69128702\n",
      "   578.88582748   274.01542652  -129.5235978    305.86658877\n",
      "   -79.28730212   241.52450358   654.70747974  -915.89402273\n",
      "     0.        ]\n",
      "bias=[22620.15499888 22620.15499888 22620.15499888 22620.15499888\n",
      " 22620.15499888 22620.15499888 22620.15499888 22620.15499888\n",
      " 22620.15499888 22620.15499888 22620.15499888 22620.15499888\n",
      " 22620.15499888 22620.15499888 22620.15499888 22620.15499888\n",
      " 22620.15499888 22620.15499888 22620.15499888 22620.15499888\n",
      " 22620.15499888 22620.15499888 22620.15499888 22620.15499888\n",
      " 22620.15499888 22620.15499888 22620.15499888 22620.15499888\n",
      " 22620.15499888 22620.15499888 22620.15499888 22620.15499888\n",
      " 22620.15499888 22620.15499888 22620.15499888 22620.15499888\n",
      " 22620.15499888 22620.15499888 22620.15499888 22620.15499888\n",
      " 22620.15499888 22620.15499888 22620.15499888 22620.15499888\n",
      " 22620.15499888]\n",
      "cost=[4.08662407e+09 4.08925247e+09 4.08968610e+09 4.08970173e+09\n",
      " 4.08958171e+09 4.08491348e+09 2.79853400e+09 4.08948970e+09\n",
      " 4.08964154e+09 4.08970173e+09 4.08969998e+09 4.08755767e+09\n",
      " 4.08453960e+09 4.08968587e+09 4.08631329e+09 4.08927292e+09\n",
      " 4.08889552e+09 4.08889552e+09 4.08565826e+09 4.08841569e+09\n",
      " 4.08957019e+09 4.08824905e+09 4.08444280e+09 4.08631317e+09\n",
      " 4.08937632e+09 4.08934330e+09 4.08689652e+09 4.08790307e+09\n",
      " 4.08936642e+09 4.08944679e+09 4.08968748e+09 4.08968748e+09\n",
      " 4.08832276e+09 4.08668651e+09 4.08954066e+09 4.08939622e+09\n",
      " 4.08809836e+09 4.08934248e+09 4.08962146e+09 4.08925411e+09\n",
      " 4.08967165e+09 4.08942262e+09 4.08765084e+09 4.08568809e+09\n",
      " 4.08970173e+09]\n",
      "iter=30\n",
      "weight=[-1079.6461651   -412.49674456    76.93846357     0.\n",
      "   213.20067282  1346.66577844 22113.76057938  -283.38085795\n",
      "  -150.9826589      0.            25.70944105  -901.1352381\n",
      "  1398.2527163    -77.49832802  1132.84638875   402.99728198\n",
      "   552.57917549  -552.57917549  1237.5086575   -697.90855178\n",
      "  -223.19811934  -741.74699376  1411.30238158 -1132.86676214\n",
      "  -351.06608947  -368.44463252 -1030.75139356   825.36378346\n",
      "   356.36311574   310.73380203   -73.45234053    73.45234053\n",
      "  -722.68312961 -1068.63888837   246.98773227  -340.1617126\n",
      "   779.27021859   368.86731577  -174.35887627   411.74392631\n",
      "  -106.73302113   325.129488     881.33793682 -1232.93558318\n",
      "     0.        ]\n",
      "bias=[30450.24129751 30450.24129751 30450.24129751 30450.24129751\n",
      " 30450.24129751 30450.24129751 30450.24129751 30450.24129751\n",
      " 30450.24129751 30450.24129751 30450.24129751 30450.24129751\n",
      " 30450.24129751 30450.24129751 30450.24129751 30450.24129751\n",
      " 30450.24129751 30450.24129751 30450.24129751 30450.24129751\n",
      " 30450.24129751 30450.24129751 30450.24129751 30450.24129751\n",
      " 30450.24129751 30450.24129751 30450.24129751 30450.24129751\n",
      " 30450.24129751 30450.24129751 30450.24129751 30450.24129751\n",
      " 30450.24129751 30450.24129751 30450.24129751 30450.24129751\n",
      " 30450.24129751 30450.24129751 30450.24129751 30450.24129751\n",
      " 30450.24129751 30450.24129751 30450.24129751 30450.24129751\n",
      " 30450.24129751]\n",
      "cost=[3.47684463e+09 3.48012688e+09 3.48066838e+09 3.48068790e+09\n",
      " 3.48053803e+09 3.47470850e+09 1.86832361e+09 3.48042312e+09\n",
      " 3.48061274e+09 3.48068790e+09 3.48068572e+09 3.47801047e+09\n",
      " 3.47424162e+09 3.48066809e+09 3.47645654e+09 3.48015242e+09\n",
      " 3.47968113e+09 3.47968113e+09 3.47563856e+09 3.47908194e+09\n",
      " 3.48052364e+09 3.47887385e+09 3.47412073e+09 3.47645638e+09\n",
      " 3.48028153e+09 3.48024031e+09 3.47718485e+09 3.47844180e+09\n",
      " 3.48026918e+09 3.48036954e+09 3.48067011e+09 3.48067011e+09\n",
      " 3.47896589e+09 3.47692259e+09 3.48048676e+09 3.48030638e+09\n",
      " 3.47868567e+09 3.48023928e+09 3.48058766e+09 3.48012892e+09\n",
      " 3.48065034e+09 3.48033936e+09 3.47812682e+09 3.47567581e+09\n",
      " 3.48068790e+09]\n",
      "iter=40\n",
      "weight=[-1306.48531631  -499.16440887    93.10362613     0.\n",
      "   257.99521868  1629.60710867 26759.97416488  -342.9206177\n",
      "  -182.70488355     0.            31.1111254  -1090.4683355\n",
      "  1692.0327246    -93.78112096  1370.86317757   487.66906089\n",
      "   668.67887111  -668.67887111  1497.51552137  -844.54268861\n",
      "  -270.09317957  -897.59181025  1707.82419093 -1370.88783151\n",
      "  -424.82686066  -445.85672401 -1247.31750455   998.77691281\n",
      "   431.2368191    376.02055447   -88.88505091    88.88505091\n",
      "  -874.52253127 -1293.16535475   298.88111119  -411.63141874\n",
      "   942.99885549   446.36821516  -210.9925631    498.25341967\n",
      "  -129.1581718    393.44084728  1066.51152052 -1491.98162087\n",
      "     0.        ]\n",
      "bias=[36847.9918877 36847.9918877 36847.9918877 36847.9918877 36847.9918877\n",
      " 36847.9918877 36847.9918877 36847.9918877 36847.9918877 36847.9918877\n",
      " 36847.9918877 36847.9918877 36847.9918877 36847.9918877 36847.9918877\n",
      " 36847.9918877 36847.9918877 36847.9918877 36847.9918877 36847.9918877\n",
      " 36847.9918877 36847.9918877 36847.9918877 36847.9918877 36847.9918877\n",
      " 36847.9918877 36847.9918877 36847.9918877 36847.9918877 36847.9918877\n",
      " 36847.9918877 36847.9918877 36847.9918877 36847.9918877 36847.9918877\n",
      " 36847.9918877 36847.9918877 36847.9918877 36847.9918877 36847.9918877\n",
      " 36847.9918877 36847.9918877 36847.9918877 36847.9918877 36847.9918877]\n",
      "cost=[3.06975101e+09 3.07346978e+09 3.07408330e+09 3.07410541e+09\n",
      " 3.07393561e+09 3.06733079e+09 1.24730773e+09 3.07380542e+09\n",
      " 3.07402025e+09 3.07410541e+09 3.07410294e+09 3.07107190e+09\n",
      " 3.06680182e+09 3.07408297e+09 3.06931131e+09 3.07349871e+09\n",
      " 3.07296475e+09 3.07296475e+09 3.06838454e+09 3.07228587e+09\n",
      " 3.07391931e+09 3.07205010e+09 3.06666485e+09 3.06931113e+09\n",
      " 3.07364500e+09 3.07359829e+09 3.07013648e+09 3.07156059e+09\n",
      " 3.07363100e+09 3.07374471e+09 3.07408525e+09 3.07408525e+09\n",
      " 3.07215439e+09 3.06983935e+09 3.07387752e+09 3.07367316e+09\n",
      " 3.07183689e+09 3.07359713e+09 3.07399184e+09 3.07347209e+09\n",
      " 3.07406285e+09 3.07371052e+09 3.07120372e+09 3.06842675e+09\n",
      " 3.07410541e+09]\n",
      "iter=50\n",
      "weight=[-1491.8294183   -569.97820062   106.31174089     0.\n",
      "   294.59562401  1860.79077555 30556.26894058  -391.56893632\n",
      "  -208.62425069     0.            35.52469478 -1245.16726083\n",
      "  1932.07238058  -107.08534829  1565.34022329   556.85206894\n",
      "   763.54077529  -763.54077529  1709.96005945  -964.35345438\n",
      "  -308.40985807 -1024.9283719   1950.104098   -1565.36837476\n",
      "  -485.09478102  -509.10803889 -1424.26778474  1140.46806515\n",
      "   492.41408606   429.36458454  -101.4946989    101.4946989\n",
      "  -998.58637739 -1476.61982485   341.28177997  -470.02737215\n",
      "  1076.77707241   509.69209256  -240.92495242   568.93797424\n",
      "  -147.4811526    449.25620136  1217.81182031 -1703.641094\n",
      "     0.        ]\n",
      "bias=[42075.4199202 42075.4199202 42075.4199202 42075.4199202 42075.4199202\n",
      " 42075.4199202 42075.4199202 42075.4199202 42075.4199202 42075.4199202\n",
      " 42075.4199202 42075.4199202 42075.4199202 42075.4199202 42075.4199202\n",
      " 42075.4199202 42075.4199202 42075.4199202 42075.4199202 42075.4199202\n",
      " 42075.4199202 42075.4199202 42075.4199202 42075.4199202 42075.4199202\n",
      " 42075.4199202 42075.4199202 42075.4199202 42075.4199202 42075.4199202\n",
      " 42075.4199202 42075.4199202 42075.4199202 42075.4199202 42075.4199202\n",
      " 42075.4199202 42075.4199202 42075.4199202 42075.4199202 42075.4199202\n",
      " 42075.4199202 42075.4199202 42075.4199202 42075.4199202 42075.4199202]\n",
      "cost=[2.79797207e+09 2.80198225e+09 2.80264385e+09 2.80266770e+09\n",
      " 2.80248459e+09 2.79536218e+09 8.32712586e+08 2.80234420e+09\n",
      " 2.80257587e+09 2.80266770e+09 2.80266504e+09 2.79939647e+09\n",
      " 2.79479176e+09 2.80264350e+09 2.79749790e+09 2.80201346e+09\n",
      " 2.80143766e+09 2.80143766e+09 2.79649852e+09 2.80070557e+09\n",
      " 2.80246701e+09 2.80045133e+09 2.79464406e+09 2.79749772e+09\n",
      " 2.80217121e+09 2.80212084e+09 2.79838775e+09 2.79992346e+09\n",
      " 2.80215611e+09 2.80227874e+09 2.80264596e+09 2.80264596e+09\n",
      " 2.80056379e+09 2.79806732e+09 2.80242195e+09 2.80220157e+09\n",
      " 2.80022141e+09 2.80211958e+09 2.80254523e+09 2.80198475e+09\n",
      " 2.80262181e+09 2.80224186e+09 2.79953862e+09 2.79654403e+09\n",
      " 2.80266770e+09]\n",
      "iter=60\n",
      "weight=[-1643.26904395  -627.8382242    117.10373228     0.\n",
      "   324.50081992  2049.68466316 33658.11816873  -431.31815456\n",
      "  -229.80226075     0.            39.13090231 -1371.56754597\n",
      "  2128.20225606  -117.95587065  1724.24212891   613.37962351\n",
      "   841.0498576   -841.0498576   1883.54271448 -1062.24757306\n",
      "  -339.71737412 -1128.97161374  2148.06442172 -1724.27313811\n",
      "  -534.33805987  -560.78896828 -1568.84904685  1256.24005271\n",
      "   542.4003673    472.95054092  -111.79769937   111.79769937\n",
      " -1099.95557236 -1626.51548367   375.92621342  -517.74111771\n",
      "  1186.0836156    561.43231081  -265.38189378   626.69240164\n",
      "  -162.45236195   494.86140938  1341.43518095 -1876.58229382\n",
      "     0.        ]\n",
      "bias=[46346.60921552 46346.60921552 46346.60921552 46346.60921552\n",
      " 46346.60921552 46346.60921552 46346.60921552 46346.60921552\n",
      " 46346.60921552 46346.60921552 46346.60921552 46346.60921552\n",
      " 46346.60921552 46346.60921552 46346.60921552 46346.60921552\n",
      " 46346.60921552 46346.60921552 46346.60921552 46346.60921552\n",
      " 46346.60921552 46346.60921552 46346.60921552 46346.60921552\n",
      " 46346.60921552 46346.60921552 46346.60921552 46346.60921552\n",
      " 46346.60921552 46346.60921552 46346.60921552 46346.60921552\n",
      " 46346.60921552 46346.60921552 46346.60921552 46346.60921552\n",
      " 46346.60921552 46346.60921552 46346.60921552 46346.60921552\n",
      " 46346.60921552 46346.60921552 46346.60921552 46346.60921552\n",
      " 46346.60921552]\n",
      "cost=[2.61653028e+09 2.62073502e+09 2.62142872e+09 2.62145372e+09\n",
      " 2.62126173e+09 2.61379378e+09 5.55925560e+08 2.62111453e+09\n",
      " 2.62135743e+09 2.62145372e+09 2.62145093e+09 2.61802378e+09\n",
      " 2.61319567e+09 2.62142835e+09 2.61603311e+09 2.62076774e+09\n",
      " 2.62016400e+09 2.62016400e+09 2.61498524e+09 2.61939639e+09\n",
      " 2.62124330e+09 2.61912982e+09 2.61304081e+09 2.61603292e+09\n",
      " 2.62093314e+09 2.62088033e+09 2.61696612e+09 2.61857634e+09\n",
      " 2.62091732e+09 2.62104589e+09 2.62143093e+09 2.62143093e+09\n",
      " 2.61924774e+09 2.61663016e+09 2.62119605e+09 2.62096498e+09\n",
      " 2.61888875e+09 2.62087901e+09 2.62132531e+09 2.62073764e+09\n",
      " 2.62140560e+09 2.62100722e+09 2.61817284e+09 2.61503296e+09\n",
      " 2.62145372e+09]\n",
      "iter=70\n",
      "weight=[-1767.00624395  -675.11407608   125.92157498     0.\n",
      "   348.93554228  2204.02472211 36192.55482413  -463.79615989\n",
      "  -247.10623687     0.            42.07743642 -1474.84578174\n",
      "  2288.45464394  -126.83787887  1854.07655496   659.5667512\n",
      "   904.38042105  -904.38042105  2025.37238165 -1142.23419539\n",
      "  -365.29789413 -1213.9825174   2309.81241908 -1854.10989914\n",
      "  -574.57340394  -603.01605031 -1686.9824645   1350.83419555\n",
      "   583.24279842   508.56344064  -120.21600089   120.21600089\n",
      " -1182.78158503 -1748.99115036   404.2332379   -556.72672172\n",
      "  1275.39501967   603.70783616  -285.36499551   673.88197375\n",
      "  -174.68493      532.12418471  1442.44446722 -2017.88784538\n",
      "     0.        ]\n",
      "bias=[49836.48184179 49836.48184179 49836.48184179 49836.48184179\n",
      " 49836.48184179 49836.48184179 49836.48184179 49836.48184179\n",
      " 49836.48184179 49836.48184179 49836.48184179 49836.48184179\n",
      " 49836.48184179 49836.48184179 49836.48184179 49836.48184179\n",
      " 49836.48184179 49836.48184179 49836.48184179 49836.48184179\n",
      " 49836.48184179 49836.48184179 49836.48184179 49836.48184179\n",
      " 49836.48184179 49836.48184179 49836.48184179 49836.48184179\n",
      " 49836.48184179 49836.48184179 49836.48184179 49836.48184179\n",
      " 49836.48184179 49836.48184179 49836.48184179 49836.48184179\n",
      " 49836.48184179 49836.48184179 49836.48184179 49836.48184179\n",
      " 49836.48184179 49836.48184179 49836.48184179 49836.48184179\n",
      " 49836.48184179]\n",
      "cost=[2.49539829e+09 2.49973292e+09 2.50044805e+09 2.50047382e+09\n",
      " 2.50027590e+09 2.49257726e+09 3.71140336e+08 2.50012415e+09\n",
      " 2.50037456e+09 2.50047382e+09 2.50047094e+09 2.49693793e+09\n",
      " 2.49196068e+09 2.50044767e+09 2.49488577e+09 2.49976665e+09\n",
      " 2.49914426e+09 2.49914426e+09 2.49380552e+09 2.49835294e+09\n",
      " 2.50025690e+09 2.49807813e+09 2.49180104e+09 2.49488557e+09\n",
      " 2.49993717e+09 2.49988272e+09 2.49584760e+09 2.49750756e+09\n",
      " 2.49992085e+09 2.50005339e+09 2.50045033e+09 2.50045033e+09\n",
      " 2.49819970e+09 2.49550126e+09 2.50020820e+09 2.49996999e+09\n",
      " 2.49782962e+09 2.49988136e+09 2.50034145e+09 2.49973562e+09\n",
      " 2.50042422e+09 2.50001353e+09 2.49709159e+09 2.49385472e+09\n",
      " 2.50047382e+09]\n",
      "iter=80\n",
      "weight=[-1868.10854528  -713.74188907   133.12639446     0.\n",
      "   368.90048946  2330.13178729 38263.37409602  -490.33305486\n",
      "  -261.24484521     0.            44.48496931 -1559.23161973\n",
      "  2419.39251231  -134.09512626  1960.16073388   697.30499726\n",
      "   956.12610228  -956.12610228  2141.25754591 -1207.58908941\n",
      "  -386.19904142 -1283.44261506  2441.97230928 -1960.1959859\n",
      "  -607.44860946  -637.51865076 -1783.50606765  1428.12449735\n",
      "   616.61403825   537.66177258  -127.09436614   127.09436614\n",
      " -1250.45646769 -1849.06268712   427.36213784  -588.58079862\n",
      "  1348.36893927   638.25001832  -301.69264453   712.43928989\n",
      "  -184.67982871   562.57058514  1524.97640827 -2133.34476902\n",
      "     0.        ]\n",
      "bias=[52687.96186421 52687.96186421 52687.96186421 52687.96186421\n",
      " 52687.96186421 52687.96186421 52687.96186421 52687.96186421\n",
      " 52687.96186421 52687.96186421 52687.96186421 52687.96186421\n",
      " 52687.96186421 52687.96186421 52687.96186421 52687.96186421\n",
      " 52687.96186421 52687.96186421 52687.96186421 52687.96186421\n",
      " 52687.96186421 52687.96186421 52687.96186421 52687.96186421\n",
      " 52687.96186421 52687.96186421 52687.96186421 52687.96186421\n",
      " 52687.96186421 52687.96186421 52687.96186421 52687.96186421\n",
      " 52687.96186421 52687.96186421 52687.96186421 52687.96186421\n",
      " 52687.96186421 52687.96186421 52687.96186421 52687.96186421\n",
      " 52687.96186421 52687.96186421 52687.96186421 52687.96186421\n",
      " 52687.96186421]\n",
      "cost=[2.41452961e+09 2.41895096e+09 2.41968039e+09 2.41970668e+09\n",
      " 2.41950480e+09 2.41165214e+09 2.47776247e+08 2.41935001e+09\n",
      " 2.41960543e+09 2.41970668e+09 2.41970374e+09 2.41610006e+09\n",
      " 2.41102323e+09 2.41968000e+09 2.41400684e+09 2.41898536e+09\n",
      " 2.41835052e+09 2.41835052e+09 2.41290498e+09 2.41754337e+09\n",
      " 2.41948542e+09 2.41726307e+09 2.41086039e+09 2.41400663e+09\n",
      " 2.41915929e+09 2.41910375e+09 2.41498791e+09 2.41668108e+09\n",
      " 2.41914264e+09 2.41927784e+09 2.41968272e+09 2.41968272e+09\n",
      " 2.41738706e+09 2.41463464e+09 2.41943574e+09 2.41919276e+09\n",
      " 2.41700958e+09 2.41910237e+09 2.41957165e+09 2.41895371e+09\n",
      " 2.41965608e+09 2.41923718e+09 2.41625678e+09 2.41295516e+09\n",
      " 2.41970668e+09]\n",
      "iter=90\n",
      "weight=[-1950.7164864   -745.30362466   139.01325654     0.\n",
      "   385.2133049   2433.17044101 39955.38421107  -512.01563012\n",
      "  -272.79711761     0.            46.45209897 -1628.18099324\n",
      "  2526.37828394  -140.02482576  2046.83923172   728.13989189\n",
      "   998.4060913   -998.4060913   2235.94416235 -1260.98879611\n",
      "  -403.2768005  -1340.19657202  2549.95656173 -2046.87604259\n",
      "  -634.31004591  -665.70978735 -1862.37287901  1491.27630118\n",
      "   643.88077085   561.43722833  -132.71449134   132.71449134\n",
      " -1305.75177401 -1930.82841856   446.26013304  -614.60789864\n",
      "  1407.99394459   666.47349606  -315.03352254   743.94342442\n",
      "  -192.84638866   587.447511    1592.41101301 -2227.6814817\n",
      "     0.        ]\n",
      "bias=[55017.82864992 55017.82864992 55017.82864992 55017.82864992\n",
      " 55017.82864992 55017.82864992 55017.82864992 55017.82864992\n",
      " 55017.82864992 55017.82864992 55017.82864992 55017.82864992\n",
      " 55017.82864992 55017.82864992 55017.82864992 55017.82864992\n",
      " 55017.82864992 55017.82864992 55017.82864992 55017.82864992\n",
      " 55017.82864992 55017.82864992 55017.82864992 55017.82864992\n",
      " 55017.82864992 55017.82864992 55017.82864992 55017.82864992\n",
      " 55017.82864992 55017.82864992 55017.82864992 55017.82864992\n",
      " 55017.82864992 55017.82864992 55017.82864992 55017.82864992\n",
      " 55017.82864992 55017.82864992 55017.82864992 55017.82864992\n",
      " 55017.82864992 55017.82864992 55017.82864992 55017.82864992\n",
      " 55017.82864992]\n",
      "cost=[2.36054104e+09 2.36502027e+09 2.36575925e+09 2.36578589e+09\n",
      " 2.36558136e+09 2.35762589e+09 1.65417398e+08 2.36542455e+09\n",
      " 2.36568332e+09 2.36578589e+09 2.36578291e+09 2.36213204e+09\n",
      " 2.35698875e+09 2.36575886e+09 2.36001142e+09 2.36505513e+09\n",
      " 2.36441198e+09 2.36441198e+09 2.35889514e+09 2.36359426e+09\n",
      " 2.36556173e+09 2.36331028e+09 2.35682378e+09 2.36001121e+09\n",
      " 2.36523133e+09 2.36517507e+09 2.36100534e+09 2.36272067e+09\n",
      " 2.36521447e+09 2.36535143e+09 2.36576161e+09 2.36576161e+09\n",
      " 2.36343590e+09 2.36064744e+09 2.36551140e+09 2.36526524e+09\n",
      " 2.36305348e+09 2.36517366e+09 2.36564910e+09 2.36502306e+09\n",
      " 2.36573463e+09 2.36531024e+09 2.36229082e+09 2.35894597e+09\n",
      " 2.36578589e+09]\n"
     ]
    }
   ],
   "source": [
    "x = X_train_sc\n",
    "y = y1_train.values\n",
    "for i in range(len(x)):\n",
    "    for k in range(len(x[i])):\n",
    "        if np.isnan(x[i][k]):\n",
    "            x[i][k]=0\n",
    "for i in range(len(y)):\n",
    "    if np.isnan(y[i]):\n",
    "            y[i]=0\n",
    "weight = 0\n",
    "bias = 0\n",
    "lr = 0.01\n",
    "iters = 100\n",
    "weight, bias, cost_history = train(x,y,weight,bias,lr,iters)"
   ]
  },
  {
   "cell_type": "code",
   "execution_count": 48,
   "metadata": {},
   "outputs": [],
   "source": [
    "# 4*. Добавить регуляризацию \\\\ не разрешается использовать sklearn"
   ]
  },
  {
   "cell_type": "code",
   "execution_count": 49,
   "metadata": {},
   "outputs": [
    {
     "data": {
      "text/plain": "array([[60886.61787721, 57431.03897182, 56900.80310339, ...,\n        55243.86343726, 53391.37868663, 56747.96797109],\n       [54956.03537872, 57431.03897182, 56760.38582559, ...,\n        55243.86343726, 53391.37868663, 56747.96797109],\n       [57152.54741519, 57431.03897182, 56479.55127   , ...,\n        58541.56989744, 58320.87018099, 56747.96797109],\n       ...,\n       [55614.98898966, 56769.04492532, 56900.80310339, ...,\n        55243.86343726, 58320.87018099, 56747.96797109],\n       [53198.82574953, 55350.48625426, 56760.38582559, ...,\n        55243.86343726, 53391.37868663, 56747.96797109],\n       [54077.43056413, 57431.03897182, 56900.80310339, ...,\n        55243.86343726, 58320.87018099, 56747.96797109]])"
     },
     "execution_count": 49,
     "metadata": {},
     "output_type": "execute_result"
    }
   ],
   "source": [
    "# 5. Оценить качество модели на обучающей и тестовой выборках \\\\ не разрешается использовать sklearn\n",
    "x = X_test_sc\n",
    "y = y1_test.values\n",
    "for i in range(len(x)):\n",
    "    for k in range(len(x[i])):\n",
    "        if np.isnan(x[i][k]):\n",
    "            x[i][k]=0\n",
    "for i in range(len(y)):\n",
    "    if np.isnan(y[i]):\n",
    "            y[i]=0\n",
    "predict_y (x, weight, bias)"
   ]
  },
  {
   "cell_type": "code",
   "execution_count": 50,
   "metadata": {},
   "outputs": [
    {
     "data": {
      "text/plain": "<Figure size 432x288 with 1 Axes>",
      "image/png": "[encoded data removed]"
     },
     "metadata": {
      "needs_background": "light"
     },
     "output_type": "display_data"
    }
   ],
   "source": [
    "# 5*. Сделать график ошибки модели на обучающей и тестовой выборках \n",
    "# 5*. Сделать график точности модели на обучающей и тестовой выборках\n",
    "plt.plot(cost_history)\n",
    "plt.grid(True)\n",
    "plt.show()"
   ]
  },
  {
   "cell_type": "code",
   "execution_count": 51,
   "metadata": {},
   "outputs": [
    {
     "name": "stdout",
     "output_type": "stream",
     "text": [
      "LinearRegression: 1.0\n",
      "LR RMSE: 5.8046575007620566e-11\n"
     ]
    }
   ],
   "source": [
    "# 6. Обучить логистическую регрессию или линейную регрессию из sklearn, оценить качество модели на \n",
    "# обучающей и тестовой выборках и сравнить со своей моделью\n",
    "from sklearn import linear_model\n",
    "from sklearn.metrics import mean_squared_error\n",
    "\n",
    "lr = linear_model.LinearRegression()\n",
    "lr.fit(X_train_sc, y1_train)\n",
    "print (\"LinearRegression:\", lr.score(X_test_sc, y1_test))\n",
    "print (\"LR RMSE:\", np.sqrt(mean_squared_error(lr.predict(X_test_sc), y1_test)))"
   ]
  },
  {
   "cell_type": "code",
   "execution_count": 52,
   "metadata": {},
   "outputs": [],
   "source": [
    "# 6*. Сделать график ошибки модели из sklearn на обучающей и тестовой выборках и сравнить со своей моделью\n",
    "# 6*. Сделать график точности модели из sklearn на обучающей и тестовой выборках и сравнить со своей моделью"
   ]
  },
  {
   "cell_type": "code",
   "execution_count": 53,
   "metadata": {},
   "outputs": [
    {
     "data": {
      "text/plain": "<AxesSubplot:xlabel='MonthlyIncome', ylabel='Density'>"
     },
     "execution_count": 53,
     "metadata": {},
     "output_type": "execute_result"
    },
    {
     "data": {
      "text/plain": "<Figure size 432x288 with 1 Axes>",
      "image/png": "[encoded data removed]"
     },
     "metadata": {
      "needs_background": "light"
     },
     "output_type": "display_data"
    }
   ],
   "source": [
    "error = (y1_train - lr.predict(X1_train)) ** 2\n",
    "sns.distplot(error)"
   ]
  },
  {
   "cell_type": "code",
   "execution_count": 54,
   "metadata": {
    "pycharm": {
     "name": "#%%\n"
    }
   },
   "outputs": [
    {
     "data": {
      "text/plain": "<AxesSubplot:xlabel='MonthlyIncome', ylabel='Density'>"
     },
     "execution_count": 54,
     "metadata": {},
     "output_type": "execute_result"
    },
    {
     "data": {
      "text/plain": "<Figure size 432x288 with 1 Axes>",
      "image/png": "[encoded data removed]"
     },
     "metadata": {
      "needs_background": "light"
     },
     "output_type": "display_data"
    }
   ],
   "source": [
    "error = (y1_test - lr.predict(X1_test)) ** 2\n",
    "sns.distplot(error)"
   ]
  }
 ],
 "metadata": {
  "kernelspec": {
   "display_name": "Python 3",
   "language": "python",
   "name": "python3"
  },
  "language_info": {
   "codemirror_mode": {
    "name": "ipython",
    "version": 3
   },
   "file_extension": ".py",
   "mimetype": "text/x-python",
   "name": "python",
   "nbconvert_exporter": "python",
   "pygments_lexer": "ipython3",
   "version": "3.8.5"
  }
 },
 "nbformat": 4,
 "nbformat_minor": 5
}