{
  "nbformat": 4,
  "nbformat_minor": 0,
  "metadata": {
    "colab": {
      "name": "lab_3.ipynb",
      "provenance": [],
      "collapsed_sections": []
    },
    "kernelspec": {
      "name": "python3",
      "display_name": "Python 3"
    },
    "accelerator": "GPU"
  },
  "cells": [
    {
      "cell_type": "markdown",
      "source": [
        "# LAB2\n",
        "### Жерлыгин Максим\n",
        "### М8О-408Б-18"
      ],
      "metadata": {
        "id": "KV-dYj9HwQ6m"
      }
    },
    {
      "cell_type": "markdown",
      "source": [
        "Скачать датасет с Kaggle (https://www.kaggle.com/competitions/tensorflow-great-barrier-reef/data). <br>\n",
        "Подключить гугл диск к колабу.<br>\n",
        "Закинуть на гугл диск часть изображений из скачанного датасета (train_images/video_0).<br>\n",
        "Сгенерировать лейблы из файла train.csv такого формата, который нужен для обучения YOLO (только для video 0). Для каждого изображения из video_0 должен быть txt файл с таким же именем, который будет содержать разметку для всех объектов этого изображения<br>\n",
        "Сложить данные так, как нужно для обучения модели (таким образом, чтобы при замене images в пути к картинкам на lables получались пути к лейблам, см. выше)<br>\n",
        "Внести изменения в пути и количество классов и их название в файле coco128.yaml (или создать новый файл на подобие coco128.yaml, в котором будут пути к данным и тд) <br>\n",
        "Запустить обучение YOLOv5 на наших данных. \n",
        "\n"
      ],
      "metadata": {
        "id": "MPZMEG5PREs2"
      }
    },
    {
      "cell_type": "code",
      "source": [
        "!git clone https://github.com/ultralytics/yolov5  # clone\n",
        "%cd yolov5\n",
        "%pip install -qr requirements.txt  # install\n",
        "import os \n",
        "import pandas as pd \n",
        "import random\n",
        "import shutil\n",
        "import torch\n",
        "from yolov5 import utils\n",
        "display = utils.notebook_init()  # checks"
      ],
      "metadata": {
        "colab": {
          "base_uri": "https://localhost:8080/"
        },
        "id": "nZIT3-h4gNSc",
        "outputId": "672ffb4f-60b3-4d75-cb69-6915c42c4531"
      },
      "execution_count": 1,
      "outputs": [
        {
          "output_type": "stream",
          "name": "stderr",
          "text": [
            "YOLOv5 🚀 v6.1-176-gaa7a0e9 torch 1.11.0+cu113 CUDA:0 (Tesla K80, 11441MiB)\n"
          ]
        },
        {
          "output_type": "stream",
          "name": "stdout",
          "text": [
            "Setup complete ✅ (2 CPUs, 12.7 GB RAM, 38.2/78.2 GB disk)\n"
          ]
        }
      ]
    },
    {
      "cell_type": "code",
      "source": [
        "# Подключаемя к гугл диску\n",
        "from google.colab import drive\n",
        "drive.mount('/content/drive')"
      ],
      "metadata": {
        "id": "uSKxTjtTHyYe",
        "colab": {
          "base_uri": "https://localhost:8080/"
        },
        "outputId": "41a45aa4-1518-493b-bb1a-410dd93035f2"
      },
      "execution_count": 2,
      "outputs": [
        {
          "output_type": "stream",
          "name": "stdout",
          "text": [
            "Mounted at /content/drive\n"
          ]
        }
      ]
    },
    {
      "cell_type": "code",
      "source": [
        "dataset = pd.read_csv('/content/drive/MyDrive/lab_3/train.csv')\n",
        "pics = os.listdir('/content/drive/MyDrive/lab_3/'+f'video_0/')\n",
        "i_a = {int(dataset.iloc[i]['image_id'][2:]): eval(dataset.iloc[i]['annotations']) for i in list(dataset.index) if eval(dataset.iloc[i]['annotations'])!=[] and dataset.iloc[i]['image_id'][2:]+'.jpg' in pics}\n"
      ],
      "metadata": {
        "id": "OxY3VIn8g-pb"
      },
      "execution_count": null,
      "outputs": []
    },
    {
      "cell_type": "code",
      "source": [
        "val = random.sample(list(i_a.keys()), int(len(list(i_a.keys()))) * 0.2)\n",
        "train = list(set(list(i_a.keys())) - set(val))"
      ],
      "metadata": {
        "id": "Nm-WhkFpr-eX"
      },
      "execution_count": null,
      "outputs": []
    },
    {
      "cell_type": "code",
      "source": [
        "os.mkdir('/content/datasets/')\n",
        "os.mkdir('/content/datasets/custom_dataset/')\n",
        "os.mkdir('/content/datasets/custom_dataset/images')\n",
        "os.mkdir('/content/datasets/custom_dataset/images/train')\n",
        "os.mkdir('/content/datasets/custom_dataset/images/val')\n",
        "os.mkdir('/content/datasets/custom_dataset/labels')\n",
        "os.mkdir('/content/datasets/custom_dataset/labels/train')\n",
        "os.mkdir('/content/datasets/custom_dataset/labels/val')"
      ],
      "metadata": {
        "id": "lQKLwu7ywuCC"
      },
      "execution_count": null,
      "outputs": []
    },
    {
      "cell_type": "code",
      "source": [
        "for i in val:\n",
        "  shutil.copy('/content/drive/MyDrive/lab_3/'+f'video_0/{i}.jpg','/content/datasets/custom_dataset/images/val')\n",
        "  with open(f\"/content/datasets/custom_dataset/labels/val/{i}.txt\", \"w+\") as f:\n",
        "    for k in range(len(i_a[i])-1):\n",
        "      f.write(f\"0 {i_a[i][k]['x']/1280} {i_a[i][k]['y']/720} {i_a[i][k]['width']/1280} {i_a[i][k]['height']/720}\\n\")\n",
        "    f.write(f\"0 {i_a[i][-1]['x']/1280} {i_a[i][-1]['y']/720} {i_a[i][-1]['width']/1280} {i_a[i][-1]['height']/720}\")"
      ],
      "metadata": {
        "id": "k5-uaNk01Qpl"
      },
      "execution_count": null,
      "outputs": []
    },
    {
      "cell_type": "code",
      "source": [
        "for i in train:\n",
        "  shutil.copy('/content/drive/MyDrive/lab_3/'+f'video_0/{i}.jpg','/content/datasets/custom_dataset/images/train')\n",
        "  with open(f\"/content/datasets/custom_dataset/labels/train/{i}.txt\", \"w+\") as f:\n",
        "    for k in range(len(i_a[i])-1):\n",
        "      f.write(f\"0 {i_a[i][k]['x']/1280} {i_a[i][k]['y']/720} {i_a[i][k]['width']/1280} {i_a[i][k]['height']/720}\\n\")\n",
        "    f.write(f\"0 {i_a[i][-1]['x']/1280} {i_a[i][-1]['y']/720} {i_a[i][-1]['width']/1280} {i_a[i][-1]['height']/720}\")"
      ],
      "metadata": {
        "id": "tpmJ5_VO1QwG"
      },
      "execution_count": null,
      "outputs": []
    },
    {
      "cell_type": "code",
      "source": [
        "!python train.py --img 1280 --batch 16 --epochs 30 --data /content/datasets/custom_dataset/my_file.yaml --weights yolov5s.pt"
      ],
      "metadata": {
        "colab": {
          "base_uri": "https://localhost:8080/"
        },
        "id": "qLmzXV_nUeq-",
        "outputId": "82a14a5e-a942-4c25-8989-e3eb94db43d2"
      },
      "execution_count": null,
      "outputs": [
        {
          "output_type": "stream",
          "name": "stdout",
          "text": [
            "\u001b[34m\u001b[1mtrain: \u001b[0mweights=yolov5s.pt, cfg=, data=/content/datasets/custom_dataset/my_file.yaml, hyp=data/hyps/hyp.scratch-low.yaml, epochs=30, batch_size=16, imgsz=1280, rect=False, resume=False, nosave=False, noval=False, noautoanchor=False, noplots=False, evolve=None, bucket=, cache=None, image_weights=False, device=, multi_scale=False, single_cls=False, optimizer=SGD, sync_bn=False, workers=8, project=runs/train, name=exp, exist_ok=False, quad=False, cos_lr=False, label_smoothing=0.0, patience=100, freeze=[0], save_period=-1, local_rank=-1, entity=None, upload_dataset=False, bbox_interval=-1, artifact_alias=latest\n",
            "\u001b[34m\u001b[1mgithub: \u001b[0mup to date with https://github.com/ultralytics/yolov5 ✅\n",
            "YOLOv5 🚀 v6.1-164-g177da7f torch 1.11.0+cu113 CUDA:0 (Tesla K80, 11441MiB)\n",
            "\n",
            "\u001b[34m\u001b[1mhyperparameters: \u001b[0mlr0=0.01, lrf=0.01, momentum=0.937, weight_decay=0.0005, warmup_epochs=3.0, warmup_momentum=0.8, warmup_bias_lr=0.1, box=0.05, cls=0.5, cls_pw=1.0, obj=1.0, obj_pw=1.0, iou_t=0.2, anchor_t=4.0, fl_gamma=0.0, hsv_h=0.015, hsv_s=0.7, hsv_v=0.4, degrees=0.0, translate=0.1, scale=0.5, shear=0.0, perspective=0.0, flipud=0.0, fliplr=0.5, mosaic=1.0, mixup=0.0, copy_paste=0.0\n",
            "\u001b[34m\u001b[1mWeights & Biases: \u001b[0mrun 'pip install wandb' to automatically track and visualize YOLOv5 🚀 runs (RECOMMENDED)\n",
            "\u001b[34m\u001b[1mTensorBoard: \u001b[0mStart with 'tensorboard --logdir runs/train', view at http://localhost:6006/\n",
            "Downloading https://ultralytics.com/assets/Arial.ttf to /root/.config/Ultralytics/Arial.ttf...\n",
            "100% 755k/755k [00:00<00:00, 13.2MB/s]\n",
            "Downloading https://github.com/ultralytics/yolov5/releases/download/v6.1/yolov5s.pt to yolov5s.pt...\n",
            "100% 14.1M/14.1M [00:00<00:00, 105MB/s] \n",
            "\n",
            "Overriding model.yaml nc=80 with nc=1\n",
            "\n",
            "                 from  n    params  module                                  arguments                     \n",
            "  0                -1  1      3520  models.common.Conv                      [3, 32, 6, 2, 2]              \n",
            "  1                -1  1     18560  models.common.Conv                      [32, 64, 3, 2]                \n",
            "  2                -1  1     18816  models.common.C3                        [64, 64, 1]                   \n",
            "  3                -1  1     73984  models.common.Conv                      [64, 128, 3, 2]               \n",
            "  4                -1  2    115712  models.common.C3                        [128, 128, 2]                 \n",
            "  5                -1  1    295424  models.common.Conv                      [128, 256, 3, 2]              \n",
            "  6                -1  3    625152  models.common.C3                        [256, 256, 3]                 \n",
            "  7                -1  1   1180672  models.common.Conv                      [256, 512, 3, 2]              \n",
            "  8                -1  1   1182720  models.common.C3                        [512, 512, 1]                 \n",
            "  9                -1  1    656896  models.common.SPPF                      [512, 512, 5]                 \n",
            " 10                -1  1    131584  models.common.Conv                      [512, 256, 1, 1]              \n",
            " 11                -1  1         0  torch.nn.modules.upsampling.Upsample    [None, 2, 'nearest']          \n",
            " 12           [-1, 6]  1         0  models.common.Concat                    [1]                           \n",
            " 13                -1  1    361984  models.common.C3                        [512, 256, 1, False]          \n",
            " 14                -1  1     33024  models.common.Conv                      [256, 128, 1, 1]              \n",
            " 15                -1  1         0  torch.nn.modules.upsampling.Upsample    [None, 2, 'nearest']          \n",
            " 16           [-1, 4]  1         0  models.common.Concat                    [1]                           \n",
            " 17                -1  1     90880  models.common.C3                        [256, 128, 1, False]          \n",
            " 18                -1  1    147712  models.common.Conv                      [128, 128, 3, 2]              \n",
            " 19          [-1, 14]  1         0  models.common.Concat                    [1]                           \n",
            " 20                -1  1    296448  models.common.C3                        [256, 256, 1, False]          \n",
            " 21                -1  1    590336  models.common.Conv                      [256, 256, 3, 2]              \n",
            " 22          [-1, 10]  1         0  models.common.Concat                    [1]                           \n",
            " 23                -1  1   1182720  models.common.C3                        [512, 512, 1, False]          \n",
            " 24      [17, 20, 23]  1     16182  models.yolo.Detect                      [1, [[10, 13, 16, 30, 33, 23], [30, 61, 62, 45, 59, 119], [116, 90, 156, 198, 373, 326]], [128, 256, 512]]\n",
            "Model summary: 270 layers, 7022326 parameters, 7022326 gradients, 15.8 GFLOPs\n",
            "\n",
            "Transferred 343/349 items from yolov5s.pt\n",
            "Scaled weight_decay = 0.0005\n",
            "\u001b[34m\u001b[1moptimizer:\u001b[0m SGD with parameter groups 57 weight (no decay), 60 weight, 60 bias\n",
            "\u001b[34m\u001b[1malbumentations: \u001b[0mversion 1.0.3 required by YOLOv5, but version 0.1.12 is currently installed\n",
            "\u001b[34m\u001b[1mtrain: \u001b[0mScanning '/content/datasets/custom_dataset/labels/train' images and labels...699 found, 0 missing, 0 empty, 0 corrupt: 100% 699/699 [00:00<00:00, 799.66it/s]\n",
            "\u001b[34m\u001b[1mtrain: \u001b[0mNew cache created: /content/datasets/custom_dataset/labels/train.cache\n",
            "\u001b[34m\u001b[1mval: \u001b[0mScanning '/content/datasets/custom_dataset/labels/val' images and labels...174 found, 0 missing, 0 empty, 0 corrupt: 100% 174/174 [00:00<00:00, 653.84it/s]\n",
            "\u001b[34m\u001b[1mval: \u001b[0mNew cache created: /content/datasets/custom_dataset/labels/val.cache\n",
            "Plotting labels to runs/train/exp/labels.jpg... \n",
            "\n",
            "\u001b[34m\u001b[1mAutoAnchor: \u001b[0m6.09 anchors/target, 1.000 Best Possible Recall (BPR). Current anchors are a good fit to dataset ✅\n",
            "Image sizes 1280 train, 1280 val\n",
            "Using 2 dataloader workers\n",
            "Logging results to \u001b[1mruns/train/exp\u001b[0m\n",
            "Starting training for 30 epochs...\n",
            "\n",
            "     Epoch   gpu_mem       box       obj       cls    labels  img_size\n",
            "      0/29     11.2G    0.1107   0.05955         0        18      1280: 100% 44/44 [03:15<00:00,  4.45s/it]\n",
            "               Class     Images     Labels          P          R     mAP@.5 mAP@.5:.95: 100% 6/6 [00:09<00:00,  1.59s/it]\n",
            "                 all        174        211   0.000455      0.019   0.000219   5.37e-05\n",
            "\n",
            "     Epoch   gpu_mem       box       obj       cls    labels  img_size\n",
            "      1/29     11.3G   0.09196   0.03208         0        21      1280: 100% 44/44 [03:11<00:00,  4.35s/it]\n",
            "               Class     Images     Labels          P          R     mAP@.5 mAP@.5:.95: 100% 6/6 [00:07<00:00,  1.26s/it]\n",
            "                 all        174        211    0.00255     0.0474   0.000626   0.000143\n",
            "\n",
            "     Epoch   gpu_mem       box       obj       cls    labels  img_size\n",
            "      2/29     11.3G   0.08794   0.03285         0        35      1280: 100% 44/44 [03:11<00:00,  4.35s/it]\n",
            "               Class     Images     Labels          P          R     mAP@.5 mAP@.5:.95: 100% 6/6 [00:07<00:00,  1.29s/it]\n",
            "                 all        174        211     0.0113     0.0284    0.00131   0.000227\n",
            "\n",
            "     Epoch   gpu_mem       box       obj       cls    labels  img_size\n",
            "      3/29     11.3G   0.08402   0.03343         0        23      1280: 100% 44/44 [03:11<00:00,  4.34s/it]\n",
            "               Class     Images     Labels          P          R     mAP@.5 mAP@.5:.95: 100% 6/6 [00:07<00:00,  1.27s/it]\n",
            "                 all        174        211      0.118     0.0521     0.0208    0.00605\n",
            "\n",
            "     Epoch   gpu_mem       box       obj       cls    labels  img_size\n",
            "      4/29     11.3G    0.0805   0.03161         0        21      1280: 100% 44/44 [03:11<00:00,  4.34s/it]\n",
            "               Class     Images     Labels          P          R     mAP@.5 mAP@.5:.95: 100% 6/6 [00:07<00:00,  1.24s/it]\n",
            "                 all        174        211     0.0706     0.0806     0.0193    0.00454\n",
            "\n",
            "     Epoch   gpu_mem       box       obj       cls    labels  img_size\n",
            "      5/29     11.3G   0.07644   0.02947         0        21      1280: 100% 44/44 [03:10<00:00,  4.34s/it]\n",
            "               Class     Images     Labels          P          R     mAP@.5 mAP@.5:.95: 100% 6/6 [00:07<00:00,  1.27s/it]\n",
            "                 all        174        211      0.175      0.142     0.0832     0.0224\n",
            "\n",
            "     Epoch   gpu_mem       box       obj       cls    labels  img_size\n",
            "      6/29     11.3G   0.06936   0.02598         0        24      1280: 100% 44/44 [03:10<00:00,  4.34s/it]\n",
            "               Class     Images     Labels          P          R     mAP@.5 mAP@.5:.95: 100% 6/6 [00:08<00:00,  1.36s/it]\n",
            "                 all        174        211      0.464      0.213      0.213     0.0495\n",
            "\n",
            "     Epoch   gpu_mem       box       obj       cls    labels  img_size\n",
            "      7/29     11.3G   0.06637   0.02362         0        25      1280: 100% 44/44 [03:11<00:00,  4.35s/it]\n",
            "               Class     Images     Labels          P          R     mAP@.5 mAP@.5:.95: 100% 6/6 [00:08<00:00,  1.44s/it]\n",
            "                 all        174        211      0.356      0.332       0.24     0.0642\n",
            "\n",
            "     Epoch   gpu_mem       box       obj       cls    labels  img_size\n",
            "      8/29     11.3G   0.06158   0.02053         0        28      1280: 100% 44/44 [03:11<00:00,  4.34s/it]\n",
            "               Class     Images     Labels          P          R     mAP@.5 mAP@.5:.95: 100% 6/6 [00:07<00:00,  1.27s/it]\n",
            "                 all        174        211      0.333       0.37      0.242     0.0467\n",
            "\n",
            "     Epoch   gpu_mem       box       obj       cls    labels  img_size\n",
            "      9/29     11.3G   0.05855   0.01907         0        23      1280: 100% 44/44 [03:10<00:00,  4.34s/it]\n",
            "               Class     Images     Labels          P          R     mAP@.5 mAP@.5:.95: 100% 6/6 [00:08<00:00,  1.39s/it]\n",
            "                 all        174        211      0.659      0.431      0.479      0.164\n",
            "\n",
            "     Epoch   gpu_mem       box       obj       cls    labels  img_size\n",
            "     10/29     11.3G   0.05275   0.01736         0        21      1280: 100% 44/44 [03:10<00:00,  4.34s/it]\n",
            "               Class     Images     Labels          P          R     mAP@.5 mAP@.5:.95: 100% 6/6 [00:07<00:00,  1.28s/it]\n",
            "                 all        174        211      0.787      0.576      0.622      0.211\n",
            "\n",
            "     Epoch   gpu_mem       box       obj       cls    labels  img_size\n",
            "     11/29     11.3G   0.05274    0.0168         0        21      1280: 100% 44/44 [03:10<00:00,  4.34s/it]\n",
            "               Class     Images     Labels          P          R     mAP@.5 mAP@.5:.95: 100% 6/6 [00:07<00:00,  1.26s/it]\n",
            "                 all        174        211      0.947      0.672      0.721      0.359\n",
            "\n",
            "     Epoch   gpu_mem       box       obj       cls    labels  img_size\n",
            "     12/29     11.3G   0.05132   0.01693         0        26      1280: 100% 44/44 [03:11<00:00,  4.34s/it]\n",
            "               Class     Images     Labels          P          R     mAP@.5 mAP@.5:.95: 100% 6/6 [00:07<00:00,  1.28s/it]\n",
            "                 all        174        211      0.913      0.597      0.691      0.348\n",
            "\n",
            "     Epoch   gpu_mem       box       obj       cls    labels  img_size\n",
            "     13/29     11.3G   0.04741   0.01498         0        17      1280: 100% 44/44 [03:11<00:00,  4.34s/it]\n",
            "               Class     Images     Labels          P          R     mAP@.5 mAP@.5:.95: 100% 6/6 [00:07<00:00,  1.27s/it]\n",
            "                 all        174        211      0.893      0.711      0.768       0.39\n",
            "\n",
            "     Epoch   gpu_mem       box       obj       cls    labels  img_size\n",
            "     14/29     11.3G   0.04769    0.0155         0        20      1280: 100% 44/44 [03:11<00:00,  4.34s/it]\n",
            "               Class     Images     Labels          P          R     mAP@.5 mAP@.5:.95: 100% 6/6 [00:07<00:00,  1.26s/it]\n",
            "                 all        174        211      0.973      0.697      0.782      0.389\n",
            "\n",
            "     Epoch   gpu_mem       box       obj       cls    labels  img_size\n",
            "     15/29     11.3G   0.04673    0.0144         0        22      1280: 100% 44/44 [03:10<00:00,  4.34s/it]\n",
            "               Class     Images     Labels          P          R     mAP@.5 mAP@.5:.95: 100% 6/6 [00:07<00:00,  1.27s/it]\n",
            "                 all        174        211       0.96      0.678       0.75      0.419\n",
            "\n",
            "     Epoch   gpu_mem       box       obj       cls    labels  img_size\n",
            "     16/29     11.3G   0.04306   0.01443         0        25      1280: 100% 44/44 [03:11<00:00,  4.34s/it]\n",
            "               Class     Images     Labels          P          R     mAP@.5 mAP@.5:.95: 100% 6/6 [00:08<00:00,  1.41s/it]\n",
            "                 all        174        211      0.909      0.711      0.774        0.4\n",
            "\n",
            "     Epoch   gpu_mem       box       obj       cls    labels  img_size\n",
            "     17/29     11.3G    0.0414   0.01402         0        18      1280: 100% 44/44 [03:10<00:00,  4.34s/it]\n",
            "               Class     Images     Labels          P          R     mAP@.5 mAP@.5:.95: 100% 6/6 [00:07<00:00,  1.27s/it]\n",
            "                 all        174        211      0.943      0.711      0.804      0.461\n",
            "\n",
            "     Epoch   gpu_mem       box       obj       cls    labels  img_size\n",
            "     18/29     11.3G   0.04013   0.01344         0        27      1280: 100% 44/44 [03:11<00:00,  4.36s/it]\n",
            "               Class     Images     Labels          P          R     mAP@.5 mAP@.5:.95: 100% 6/6 [00:07<00:00,  1.27s/it]\n",
            "                 all        174        211      0.933      0.725      0.787      0.377\n",
            "\n",
            "     Epoch   gpu_mem       box       obj       cls    labels  img_size\n",
            "     19/29     11.3G   0.03953   0.01278         0        24      1280: 100% 44/44 [03:10<00:00,  4.33s/it]\n",
            "               Class     Images     Labels          P          R     mAP@.5 mAP@.5:.95: 100% 6/6 [00:07<00:00,  1.27s/it]\n",
            "                 all        174        211      0.974       0.72      0.799      0.465\n",
            "\n",
            "     Epoch   gpu_mem       box       obj       cls    labels  img_size\n",
            "     20/29     11.3G   0.03895    0.0129         0        32      1280: 100% 44/44 [03:10<00:00,  4.34s/it]\n",
            "               Class     Images     Labels          P          R     mAP@.5 mAP@.5:.95: 100% 6/6 [00:07<00:00,  1.27s/it]\n",
            "                 all        174        211       0.94      0.744      0.795      0.456\n",
            "\n",
            "     Epoch   gpu_mem       box       obj       cls    labels  img_size\n",
            "     21/29     11.3G   0.03817   0.01291         0        29      1280: 100% 44/44 [03:10<00:00,  4.33s/it]\n",
            "               Class     Images     Labels          P          R     mAP@.5 mAP@.5:.95: 100% 6/6 [00:07<00:00,  1.27s/it]\n",
            "                 all        174        211      0.958      0.758      0.831      0.453\n",
            "\n",
            "     Epoch   gpu_mem       box       obj       cls    labels  img_size\n",
            "     22/29     11.3G   0.03777    0.0132         0        21      1280: 100% 44/44 [03:11<00:00,  4.34s/it]\n",
            "               Class     Images     Labels          P          R     mAP@.5 mAP@.5:.95: 100% 6/6 [00:07<00:00,  1.26s/it]\n",
            "                 all        174        211       0.94      0.749      0.849      0.492\n",
            "\n",
            "     Epoch   gpu_mem       box       obj       cls    labels  img_size\n",
            "     23/29     11.3G   0.03565   0.01224         0        23      1280: 100% 44/44 [03:10<00:00,  4.33s/it]\n",
            "               Class     Images     Labels          P          R     mAP@.5 mAP@.5:.95: 100% 6/6 [00:07<00:00,  1.27s/it]\n",
            "                 all        174        211      0.923      0.744      0.818      0.496\n",
            "\n",
            "     Epoch   gpu_mem       box       obj       cls    labels  img_size\n",
            "     24/29     11.3G   0.03502   0.01215         0        16      1280: 100% 44/44 [03:10<00:00,  4.34s/it]\n",
            "               Class     Images     Labels          P          R     mAP@.5 mAP@.5:.95: 100% 6/6 [00:07<00:00,  1.26s/it]\n",
            "                 all        174        211      0.947      0.758      0.821      0.498\n",
            "\n",
            "     Epoch   gpu_mem       box       obj       cls    labels  img_size\n",
            "     25/29     11.3G   0.03523   0.01161         0        28      1280: 100% 44/44 [03:10<00:00,  4.33s/it]\n",
            "               Class     Images     Labels          P          R     mAP@.5 mAP@.5:.95: 100% 6/6 [00:07<00:00,  1.27s/it]\n",
            "                 all        174        211      0.952      0.758      0.828      0.477\n",
            "\n",
            "     Epoch   gpu_mem       box       obj       cls    labels  img_size\n",
            "     26/29     11.3G   0.03324    0.0116         0        25      1280: 100% 44/44 [03:10<00:00,  4.33s/it]\n",
            "               Class     Images     Labels          P          R     mAP@.5 mAP@.5:.95: 100% 6/6 [00:07<00:00,  1.27s/it]\n",
            "                 all        174        211      0.975      0.749      0.841      0.496\n",
            "\n",
            "     Epoch   gpu_mem       box       obj       cls    labels  img_size\n",
            "     27/29     11.3G   0.03398   0.01179         0        25      1280: 100% 44/44 [03:10<00:00,  4.34s/it]\n",
            "               Class     Images     Labels          P          R     mAP@.5 mAP@.5:.95: 100% 6/6 [00:07<00:00,  1.26s/it]\n",
            "                 all        174        211      0.953      0.768      0.844      0.523\n",
            "\n",
            "     Epoch   gpu_mem       box       obj       cls    labels  img_size\n",
            "     28/29     11.3G   0.03361   0.01178         0        28      1280: 100% 44/44 [03:10<00:00,  4.33s/it]\n",
            "               Class     Images     Labels          P          R     mAP@.5 mAP@.5:.95: 100% 6/6 [00:07<00:00,  1.27s/it]\n",
            "                 all        174        211      0.975      0.758      0.828      0.512\n",
            "\n",
            "     Epoch   gpu_mem       box       obj       cls    labels  img_size\n",
            "     29/29     11.3G   0.03327   0.01115         0        18      1280: 100% 44/44 [03:10<00:00,  4.33s/it]\n",
            "               Class     Images     Labels          P          R     mAP@.5 mAP@.5:.95: 100% 6/6 [00:07<00:00,  1.26s/it]\n",
            "                 all        174        211      0.969      0.758      0.828      0.506\n",
            "\n",
            "30 epochs completed in 1.666 hours.\n",
            "Optimizer stripped from runs/train/exp/weights/last.pt, 14.7MB\n",
            "Optimizer stripped from runs/train/exp/weights/best.pt, 14.7MB\n",
            "\n",
            "Validating runs/train/exp/weights/best.pt...\n",
            "Fusing layers... \n",
            "Model summary: 213 layers, 7012822 parameters, 0 gradients, 15.8 GFLOPs\n",
            "               Class     Images     Labels          P          R     mAP@.5 mAP@.5:.95: 100% 6/6 [00:10<00:00,  1.83s/it]\n",
            "                 all        174        211      0.953      0.768      0.844      0.524\n",
            "Results saved to \u001b[1mruns/train/exp\u001b[0m\n"
          ]
        }
      ]
    }
  ]
}